{
 "cells": [
  {
   "cell_type": "code",
   "execution_count": null,
   "metadata": {
    "vscode": {
     "languageId": "plaintext"
    }
   },
   "outputs": [],
   "source": [
    "from collections import OrderedDict\n",
    "\n",
    "import numpy as np\n",
    "import pandas as pd\n",
    "\n",
    "import torch\n",
    "import torch.nn as nn\n",
    "import torch.nn.functional as F\n",
    "import torch.optim as optim\n",
    "\n",
    "from torch.utils.data import DataLoader, TensorDataset\n",
    "\n",
    "from sklearn.model_selection import train_test_split\n",
    "\n",
    "import flwr as fl\n",
    "from flwr.simulation import run_simulation\n",
    "from flwr.client import Client, ClientApp, NumPyClient\n",
    "from flwr.common import Context\n",
    "from flwr.server import ServerApp, ServerConfig, ServerAppComponents\n",
    "\n",
    "from datasets import Dataset\n",
    "from flwr_datasets.partitioner import DirichletPartitioner\n",
    "\n",
    "from custom_flwr.server_app import server_fn as server_fn_custom\n",
    "from custom_flwr.client_app import client_fn as client_fn_custom\n",
    "\n",
    "DEVICE = torch.device('cpu')\n",
    "\n",
    "NUM_CLIENTS = 10\n",
    "# REPRESENTS SILO'D ORGANIZATIONS"
   ]
  },
  {
   "cell_type": "code",
   "execution_count": null,
   "metadata": {
    "vscode": {
     "languageId": "plaintext"
    }
   },
   "outputs": [],
   "source": []
  },
  {
   "cell_type": "code",
   "execution_count": null,
   "metadata": {
    "vscode": {
     "languageId": "plaintext"
    }
   },
   "outputs": [],
   "source": [
    "\n",
    "\n",
    "def server_fn(context: Context):\n",
    "    context.run_config = {\n",
    "        'num-server-rounds' : 10,\n",
    "        'fraction-fit': 0.25,\n",
    "        'fraction-evaluate': 0.5,\n",
    "        'local-epochs': 1,\n",
    "        'server-device': str(DEVICE),\n",
    "        'use-wandb': False\n",
    "    }\n",
    "    return server_fn_custom(context)\n",
    "\n",
    "def client_fn(context: Context):\n",
    "    return client_fn_custom(context)\n",
    "\n",
    "client = ClientApp(client_fn=client_fn)\n",
    "server = ServerApp(server_fn=server_fn)"
   ]
  },
  {
   "cell_type": "code",
   "execution_count": null,
   "metadata": {
    "vscode": {
     "languageId": "plaintext"
    }
   },
   "outputs": [],
   "source": [
    "backend_config = {\"client_resources\": None}\n",
    "NUM_PARTITIONS = 10\n",
    "run_simulation(\n",
    "    server_app=server,\n",
    "    client_app=client,\n",
    "    num_supernodes=NUM_PARTITIONS,\n",
    "    backend_config=backend_config,\n",
    ")"
   ]
  },
  {
   "cell_type": "code",
   "execution_count": null,
   "metadata": {
    "vscode": {
     "languageId": "plaintext"
    }
   },
   "outputs": [],
   "source": []
  }
 ],
 "metadata": {
  "language_info": {
   "name": "python"
  }
 },
 "nbformat": 4,
 "nbformat_minor": 2
}
